{
 "cells": [
  {
   "cell_type": "markdown",
   "metadata": {
    "collapsed": true
   },
   "source": [
    "#### Урок 1. Концепции хранения информации\n",
    "###### Домашнее задание N1\n",
    "###### Слушатель: Перфильев Дмитрий"
   ]
  },
  {
   "cell_type": "markdown",
   "metadata": {},
   "source": [
    "#### 1. Каждое из слов «разработка», «сокет», «декоратор» представить в строковом формате и проверить тип и содержание соответствующих переменных. Затем с помощью онлайн-конвертера преобразовать строковые представление в формат Unicode и также проверить тип и содержимое переменных."
   ]
  },
  {
   "cell_type": "code",
   "execution_count": 1,
   "metadata": {},
   "outputs": [
    {
     "name": "stdout",
     "output_type": "stream",
     "text": [
      "\n",
      "======================================================\n",
      "Переменная - development:\n",
      "Тип - <class 'str'>:\n",
      "Значение - разработка:\n",
      "Байткод - b'\\xd1\\x80\\xd0\\xb0\\xd0\\xb7\\xd1\\x80\\xd0\\xb0\\xd0\\xb1\\xd0\\xbe\\xd1\\x82\\xd0\\xba\\xd0\\xb0'\n",
      "======================================================\n",
      "\n",
      "======================================================\n",
      "Переменная - socket:\n",
      "Тип - <class 'str'>:\n",
      "Значение - сокет:\n",
      "Байткод - b'\\xd1\\x81\\xd0\\xbe\\xd0\\xba\\xd0\\xb5\\xd1\\x82'\n",
      "======================================================\n",
      "\n",
      "======================================================\n",
      "Переменная - decorator:\n",
      "Тип - <class 'str'>:\n",
      "Значение - декоратор:\n",
      "Байткод - b'\\xd0\\xb4\\xd0\\xb5\\xd0\\xba\\xd0\\xbe\\xd1\\x80\\xd0\\xb0\\xd1\\x82\\xd0\\xbe\\xd1\\x80'\n",
      "======================================================\n"
     ]
    }
   ],
   "source": [
    "def str_transform_info(vars, transform = False):\n",
    "    for k,v in vars.items():\n",
    "        print('\\n======================================================')\n",
    "        print(\n",
    "        f'Переменная - {k}:\\n'\n",
    "        f'Тип - {type(v)}:\\n'\n",
    "        f'Значение - {v}:')\n",
    "        if type(v) is str:\n",
    "            print(f'Байткод - {v.encode()}')\n",
    "            if transform == True:\n",
    "                transform_str_to_bytes = v.encode()\n",
    "                print(f'\\nВыполним преобразование переменной:')\n",
    "                print(f'\\nПреобразование строки {v} в байткод с помощью encode: {transform_str_to_bytes}')\n",
    "                transform_bytes_to_str = transform_str_to_bytes.decode()\n",
    "                print(f'\\nПреобразование из байткода {transform_str_to_bytes} в строку с помощью decode: {transform_bytes_to_str}')\n",
    "        print('======================================================')     \n",
    "    return\n",
    "\n",
    "development = 'разработка'\n",
    "socket = 'сокет' \n",
    "decorator = 'декоратор'\n",
    "\n",
    "str_transform_info({'development':development, 'socket':socket, 'decorator':decorator})"
   ]
  },
  {
   "cell_type": "markdown",
   "metadata": {},
   "source": [
    "#### 2. Каждое из слов «class», «function», «method» записать в байтовом типе без преобразования в последовательность кодов (не используя методы encode и decode) и определить тип, содержимое и длину соответствующих переменных."
   ]
  },
  {
   "cell_type": "code",
   "execution_count": 2,
   "metadata": {},
   "outputs": [
    {
     "name": "stdout",
     "output_type": "stream",
     "text": [
      "b'class' b'function' b'method'\n"
     ]
    }
   ],
   "source": [
    "### «class», «function», «method»\n",
    "\n",
    "bytes_class = b'class' \n",
    "bytes_function = b'function'\n",
    "bytes_method = b'method'\n",
    "\n",
    "print(f'{bytes_class} {bytes_function} {bytes_method}')\n"
   ]
  },
  {
   "cell_type": "markdown",
   "metadata": {},
   "source": [
    "#### 3. Определить, какие из слов «attribute», «класс», «функция», «type» невозможно записать в байтовом типе."
   ]
  },
  {
   "cell_type": "code",
   "execution_count": 3,
   "metadata": {},
   "outputs": [
    {
     "name": "stdout",
     "output_type": "stream",
     "text": [
      "\n",
      "======================================================\n",
      "Переменная - str_attribute:\n",
      "Тип - <class 'str'>:\n",
      "Значение - attribute:\n",
      "Байткод - b'attribute'\n",
      "======================================================\n",
      "\n",
      "======================================================\n",
      "Переменная - str_class:\n",
      "Тип - <class 'str'>:\n",
      "Значение - класс:\n",
      "Байткод - b'\\xd0\\xba\\xd0\\xbb\\xd0\\xb0\\xd1\\x81\\xd1\\x81'\n",
      "======================================================\n",
      "\n",
      "======================================================\n",
      "Переменная - str_function:\n",
      "Тип - <class 'str'>:\n",
      "Значение - функция:\n",
      "Байткод - b'\\xd1\\x84\\xd1\\x83\\xd0\\xbd\\xd0\\xba\\xd1\\x86\\xd0\\xb8\\xd1\\x8f'\n",
      "======================================================\n",
      "\n",
      "======================================================\n",
      "Переменная - str_type:\n",
      "Тип - <class 'str'>:\n",
      "Значение - type:\n",
      "Байткод - b'type'\n",
      "======================================================\n"
     ]
    }
   ],
   "source": [
    "str_attribute = 'attribute'\n",
    "str_class = 'класс'\n",
    "str_function = 'функция'\n",
    "str_type = 'type'\n",
    "\n",
    "str_transform_info({'str_attribute': str_attribute, \n",
    "          'str_class':str_class, \n",
    "          'str_function':str_function, \n",
    "          'str_type': str_type})"
   ]
  },
  {
   "cell_type": "markdown",
   "metadata": {},
   "source": [
    "#### 4. Преобразовать слова «разработка», «администрирование», «protocol», «standard» из строкового представления в байтовое и выполнить обратное преобразование (используя методы encode и decode)."
   ]
  },
  {
   "cell_type": "code",
   "execution_count": 4,
   "metadata": {},
   "outputs": [
    {
     "name": "stdout",
     "output_type": "stream",
     "text": [
      "\n",
      "======================================================\n",
      "Переменная - development:\n",
      "Тип - <class 'str'>:\n",
      "Значение - разработка:\n",
      "Байткод - b'\\xd1\\x80\\xd0\\xb0\\xd0\\xb7\\xd1\\x80\\xd0\\xb0\\xd0\\xb1\\xd0\\xbe\\xd1\\x82\\xd0\\xba\\xd0\\xb0'\n",
      "\n",
      "Выполним преобразование переменной:\n",
      "\n",
      "Преобразование строки разработка в байткод с помощью encode: b'\\xd1\\x80\\xd0\\xb0\\xd0\\xb7\\xd1\\x80\\xd0\\xb0\\xd0\\xb1\\xd0\\xbe\\xd1\\x82\\xd0\\xba\\xd0\\xb0'\n",
      "\n",
      "Преобразование из байткода b'\\xd1\\x80\\xd0\\xb0\\xd0\\xb7\\xd1\\x80\\xd0\\xb0\\xd0\\xb1\\xd0\\xbe\\xd1\\x82\\xd0\\xba\\xd0\\xb0' в строку с помощью decode: разработка\n",
      "======================================================\n",
      "\n",
      "======================================================\n",
      "Переменная - administration:\n",
      "Тип - <class 'str'>:\n",
      "Значение - администрирование:\n",
      "Байткод - b'\\xd0\\xb0\\xd0\\xb4\\xd0\\xbc\\xd0\\xb8\\xd0\\xbd\\xd0\\xb8\\xd1\\x81\\xd1\\x82\\xd1\\x80\\xd0\\xb8\\xd1\\x80\\xd0\\xbe\\xd0\\xb2\\xd0\\xb0\\xd0\\xbd\\xd0\\xb8\\xd0\\xb5'\n",
      "\n",
      "Выполним преобразование переменной:\n",
      "\n",
      "Преобразование строки администрирование в байткод с помощью encode: b'\\xd0\\xb0\\xd0\\xb4\\xd0\\xbc\\xd0\\xb8\\xd0\\xbd\\xd0\\xb8\\xd1\\x81\\xd1\\x82\\xd1\\x80\\xd0\\xb8\\xd1\\x80\\xd0\\xbe\\xd0\\xb2\\xd0\\xb0\\xd0\\xbd\\xd0\\xb8\\xd0\\xb5'\n",
      "\n",
      "Преобразование из байткода b'\\xd0\\xb0\\xd0\\xb4\\xd0\\xbc\\xd0\\xb8\\xd0\\xbd\\xd0\\xb8\\xd1\\x81\\xd1\\x82\\xd1\\x80\\xd0\\xb8\\xd1\\x80\\xd0\\xbe\\xd0\\xb2\\xd0\\xb0\\xd0\\xbd\\xd0\\xb8\\xd0\\xb5' в строку с помощью decode: администрирование\n",
      "======================================================\n",
      "\n",
      "======================================================\n",
      "Переменная - protocol:\n",
      "Тип - <class 'str'>:\n",
      "Значение - protocol:\n",
      "Байткод - b'protocol'\n",
      "\n",
      "Выполним преобразование переменной:\n",
      "\n",
      "Преобразование строки protocol в байткод с помощью encode: b'protocol'\n",
      "\n",
      "Преобразование из байткода b'protocol' в строку с помощью decode: protocol\n",
      "======================================================\n",
      "\n",
      "======================================================\n",
      "Переменная - standard:\n",
      "Тип - <class 'str'>:\n",
      "Значение - standard:\n",
      "Байткод - b'standard'\n",
      "\n",
      "Выполним преобразование переменной:\n",
      "\n",
      "Преобразование строки standard в байткод с помощью encode: b'standard'\n",
      "\n",
      "Преобразование из байткода b'standard' в строку с помощью decode: standard\n",
      "======================================================\n"
     ]
    }
   ],
   "source": [
    "development = 'разработка'\n",
    "administration = 'администрирование'\n",
    "protocol = 'protocol'\n",
    "standard = 'standard'\n",
    "\n",
    "str_transform_info({'development': development, \n",
    "          'administration':administration, \n",
    "          'protocol':protocol, \n",
    "          'standard': standard}, True)"
   ]
  }
 ],
 "metadata": {
  "kernelspec": {
   "display_name": "Python 3",
   "language": "python",
   "name": "python3"
  },
  "language_info": {
   "codemirror_mode": {
    "name": "ipython",
    "version": 3
   },
   "file_extension": ".py",
   "mimetype": "text/x-python",
   "name": "python",
   "nbconvert_exporter": "python",
   "pygments_lexer": "ipython3",
   "version": "3.7.1"
  }
 },
 "nbformat": 4,
 "nbformat_minor": 1
}
