{
 "cells": [
  {
   "cell_type": "markdown",
   "metadata": {},
   "source": [
    "#### Урок 2. Файловое хранение данных\n",
    "###### Практическая работа\n",
    "###### Слушатель: Перфильев Дмитрий"
   ]
  },
  {
   "cell_type": "markdown",
   "metadata": {},
   "source": [
    "#### 1. Задание на закрепление знаний по модулю CSV. Написать скрипт, осуществляющий выборку определенных данных из файлов info_1.txt, info_2.txt, info_3.txt и формирующий новый «отчетный» файл в формате CSV. Для этого:\n",
    "#### 2. Создать функцию get_data(), в которой в цикле осуществляется перебор файлов с данными, их открытие и считывание данных. В этой функции из считанных данных необходимо с помощью регулярных выражений извлечь значения параметров «Изготовитель системы», «Название ОС», «Код продукта», «Тип системы». Значения каждого параметра поместить в соответствующий список. Должно получиться четыре списка — например, os_prod_list, os_name_list, os_code_list, os_type_list. В этой же функции создать главный список для хранения данных отчета — например, main_data — и поместить в него названия столбцов отчета в виде списка: «Изготовитель системы», «Название ОС», «Код продукта», «Тип системы». Значения для этих столбцов также оформить в виде списка и поместить в файл main_data (также для каждого файла);"
   ]
  },
  {
   "cell_type": "code",
   "execution_count": 1,
   "metadata": {},
   "outputs": [
    {
     "name": "stdout",
     "output_type": "stream",
     "text": [
      "=============================================\n",
      "\n",
      "Содержимое main_data:\n",
      "\n",
      "{'os_prod_list': ['LENOVO', 'ACER', 'DELL'], 'os_name_list': ['Microsoft Windows 7 Профессиональная', 'Microsoft Windows 10 Professional', 'Microsoft Windows 8.1 Professional'], 'os_code_list': ['00971-OEM-1982661-00231', '00971-OEM-1982661-00231', '00971-OEM-1982661-00231'], 'os_type_list': ['x64-based PC', 'x64-based PC', 'x86-based PC']}\n",
      "=============================================\n",
      "\n"
     ]
    }
   ],
   "source": [
    "import re\n",
    "\n",
    "search_params = {'os_prod_list': 'Изготовитель системы', 'os_name_list': 'Название ОС',\n",
    "                 'os_code_list': 'Код продукта', 'os_type_list': 'Тип системы'}\n",
    "\n",
    "data_files = ['data/info_1.txt', 'data/info_2.txt', 'data/info_3.txt']\n",
    "\n",
    "main_data = {k: [] for k in search_params.keys()}\n",
    "\n",
    "def search_data(text):\n",
    "    for key, param in search_params.items():\n",
    "        main_data.update({key: main_data[key] + [re.search(f'({param}.*:\\s*)(.*)', text)[2].strip()]})\n",
    "\n",
    "def get_data(files: list):\n",
    "    for file_path in files:\n",
    "        with open(file_path, 'r') as file:\n",
    "            file_text = file.read()\n",
    "            search_data(file_text)\n",
    "\n",
    "\n",
    "get_data(data_files)\n",
    "print(f'=============================================\\n')\n",
    "print(f'Содержимое main_data:\\n')\n",
    "print(f'{main_data}')\n",
    "print(f'=============================================\\n')"
   ]
  },
  {
   "cell_type": "markdown",
   "metadata": {},
   "source": [
    "#### 3.Создать функцию write_to_csv(), в которую передавать ссылку на CSV-файл. В этой функции реализовать получение данных через вызов функции get_data(), а также сохранение подготовленных данных в соответствующий CSV-файл;\n",
    "#### 4. Проверить работу программы через вызов функции write_to_csv()."
   ]
  },
  {
   "cell_type": "code",
   "execution_count": 2,
   "metadata": {},
   "outputs": [
    {
     "name": "stdout",
     "output_type": "stream",
     "text": [
      "\n",
      "Читаем записанный csv файл data/file_csv.csv ======================================\n",
      "\n",
      "Headers:  ['Изготовитель системы;Название ОС;Код продукта;Тип системы']\n",
      "['LENOVO;Microsoft Windows 7 Профессиональная;00971-OEM-1982661-00231;x64-based PC']\n",
      "['ACER;Microsoft Windows 10 Professional;00971-OEM-1982661-00231;x64-based PC']\n",
      "['DELL;Microsoft Windows 8.1 Professional;00971-OEM-1982661-00231;x86-based PC']\n",
      "\n",
      "Читаем записанный csv файл data/file_csv.csv ======================================\n",
      "\n"
     ]
    }
   ],
   "source": [
    "import csv\n",
    "\n",
    "\n",
    "csv_file_path = 'data/file_csv.csv'\n",
    "\n",
    "def write_to_csv(csv_file_path, main_data):\n",
    "    with open(csv_file_path, 'w', newline='', encoding=\"utf-8\") as csv_file:\n",
    "        header = search_params.values()\n",
    "        csv_file_writer = csv.writer(csv_file, delimiter=';')\n",
    "        csv_file_writer.writerow(header)\n",
    "        for i in range(len(main_data['os_prod_list'])):\n",
    "            row = list()\n",
    "            for key, item_list in main_data.items():\n",
    "                row.append(item_list[i])\n",
    "            csv_file_writer.writerow(row)\n",
    "            \n",
    "write_to_csv(csv_file_path, main_data)\n",
    "\n",
    "print(f'\\nЧитаем записанный csv файл {csv_file_path} ======================================\\n')\n",
    "with open(csv_file_path, encoding=\"utf-8\") as file_csv:\n",
    "    file_csv_reader = csv.reader(file_csv)\n",
    "    file_csv_headers = next(file_csv_reader)\n",
    "    print('Headers: ', file_csv_headers)\n",
    "    for row in file_csv_reader:\n",
    "        print(row)\n",
    "print(f'\\nЧитаем записанный csv файл {csv_file_path} ======================================\\n')"
   ]
  },
  {
   "cell_type": "markdown",
   "metadata": {},
   "source": [
    "#### 5. Задание на закрепление знаний по модулю json. Есть файл orders в формате JSON с информацией о заказах. Написать скрипт, автоматизирующий его заполнение данными. Для этого:\n",
    "#### 6. Создать функцию write_order_to_json(), в которую передается 5 параметров — товар (item), количество (quantity), цена (price), покупатель (buyer), дата (date). Функция должна предусматривать запись данных в виде словаря в файл orders.json. При записи данных указать величину отступа в 4 пробельных символа;\n",
    "#### 7. Проверить работу программы через вызов функции write_order_to_json() с передачей в нее значений каждого параметра."
   ]
  },
  {
   "cell_type": "code",
   "execution_count": 3,
   "metadata": {},
   "outputs": [
    {
     "name": "stdout",
     "output_type": "stream",
     "text": [
      "\n",
      "Читаем записанный json файл data/orders.json======================================\n",
      "\n",
      "{'headers': {'item': 'товар', 'quantity': 'количество', 'price': 'цена', 'buyer': 'покупатель', 'date': 'дата'}, 'params': {'item': 'Книга', 'quantity': '2', 'price': '1000', 'buyer': 'Гость', 'date': '09.08.2019 10:45:00'}}\n",
      "\n",
      "Читаем записанный json файл data/orders.json======================================\n",
      "\n"
     ]
    }
   ],
   "source": [
    "import json\n",
    "\n",
    "\n",
    "json_param = { 'item': 'товар',  'quantity': 'количество', \n",
    "              'price': 'цена', 'buyer': 'покупатель', 'date': 'дата'}\n",
    "\n",
    "json_file_path = 'data/orders.json'\n",
    "\n",
    "indent = 4\n",
    "\n",
    "def write_order_to_json(json_file_path, **params_json):\n",
    "    write_json_data = {'headers':json_param, 'params': params_json}\n",
    "    with open(json_file_path, 'w', encoding=\"utf-8\") as file_json:\n",
    "        json.dump(write_json_data, file_json, indent=indent)\n",
    "\n",
    "params_json = { 'item': 'Книга',  'quantity': '2', \n",
    "              'price': '1000', 'buyer': 'Гость', 'date': '09.08.2019 10:45:00'}\n",
    "\n",
    "write_order_to_json(json_file_path, **params_json)\n",
    "\n",
    "print(f'\\nЧитаем записанный json файл {json_file_path }======================================\\n')\n",
    "with open(json_file_path) as file_json:\n",
    "    objs = json.loads(file_json.read())\n",
    "    print(objs)\n",
    "print(f'\\nЧитаем записанный json файл {json_file_path }======================================\\n')"
   ]
  },
  {
   "cell_type": "markdown",
   "metadata": {},
   "source": [
    "#### 8. Задание на закрепление знаний по модулю yaml. Написать скрипт, автоматизирующий сохранение данных в файле YAML-формата. Для этого:\n",
    "#### 9. Подготовить данные для записи в виде словаря, в котором первому ключу соответствует список, второму — целое число, третьему — вложенный словарь, где значение каждого ключа — это целое число с юникод-символом, отсутствующим в кодировке ASCII (например, €);\n",
    "#### 10. Реализовать сохранение данных в файл формата YAML — например, в файл file.yaml. При этом обеспечить стилизацию файла с помощью параметра default_flow_style, а также установить возможность работы с юникодом: allow_unicode = True;\n",
    "#### 11. Реализовать считывание данных из созданного файла и проверить, совпадают ли они с исходными."
   ]
  },
  {
   "cell_type": "code",
   "execution_count": 4,
   "metadata": {},
   "outputs": [
    {
     "name": "stdout",
     "output_type": "stream",
     "text": [
      "\n",
      "Читаем записанный yaml файл data/yaml_file.yaml======================================\n",
      "\n",
      "{'first_item': ['п', 'е', 'р', 'в', 'ы', 'й', ' ', 'к', 'л', 'ю', 'ч'],\n",
      " 'second_item': 1000,\n",
      " 'third_item': {1: '¶', 2: '€', 3: '©'}}\n",
      "\n",
      "Читаем записанный yaml файл data/yaml_file.yaml======================================\n",
      "\n"
     ]
    }
   ],
   "source": [
    "import yaml\n",
    "from pprint import pprint \n",
    "\n",
    "\n",
    "yaml_file_path = 'data/yaml_file.yaml'\n",
    "\n",
    "first_item = list('первый ключ')\n",
    "second_item = 1000\n",
    "third_item = {1: '¶', 2 : '€', 3 : '©'}\n",
    "\n",
    "dict_to_write = {'first_item':first_item,'second_item':second_item,'third_item':third_item}\n",
    "\n",
    "with open(yaml_file_path, 'w') as file_yaml:\n",
    "    yaml.safe_dump(dict_to_write, file_yaml, default_flow_style=False, allow_unicode = True)\n",
    "\n",
    "print(f'\\nЧитаем записанный yaml файл {yaml_file_path}======================================\\n')\n",
    "with open(yaml_file_path) as file_yaml:\n",
    "    pprint(yaml.safe_load(file_yaml))\n",
    "print(f'\\nЧитаем записанный yaml файл {yaml_file_path}======================================\\n')"
   ]
  },
  {
   "cell_type": "code",
   "execution_count": null,
   "metadata": {},
   "outputs": [],
   "source": []
  }
 ],
 "metadata": {
  "kernelspec": {
   "display_name": "Python 3",
   "language": "python",
   "name": "python3"
  },
  "language_info": {
   "codemirror_mode": {
    "name": "ipython",
    "version": 3
   },
   "file_extension": ".py",
   "mimetype": "text/x-python",
   "name": "python",
   "nbconvert_exporter": "python",
   "pygments_lexer": "ipython3",
   "version": "3.7.0"
  }
 },
 "nbformat": 4,
 "nbformat_minor": 2
}
